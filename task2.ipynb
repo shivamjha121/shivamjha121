{
 "cells": [
  {
   "cell_type": "markdown",
   "source": [
    "# task2\r\n",
    "## Registration/referral ID - SIRSS2317.\r\n",
    "## Full Name: Shivam Jha."
   ],
   "metadata": {}
  },
  {
   "cell_type": "markdown",
   "source": [
    "#  Assignment 2\r\n",
    "\r\n",
    "## Q1. Write a lambda expression to extract first word of the string"
   ],
   "metadata": {}
  },
  {
   "cell_type": "code",
   "execution_count": 1,
   "source": [
    "string = \"McLaren P1 is a limited-production mid-engine plug-in hybrid sports car\"\r\n",
    "first_word = lambda i: string.split()[i]\r\n",
    "print(first_word(0))"
   ],
   "outputs": [
    {
     "output_type": "stream",
     "name": "stdout",
     "text": [
      "McLaren\n"
     ]
    }
   ],
   "metadata": {}
  },
  {
   "cell_type": "markdown",
   "source": [
    "## Q2. Write a function to extract first word of s string(with many word seperated by space)"
   ],
   "metadata": {}
  },
  {
   "cell_type": "code",
   "execution_count": 2,
   "source": [
    "str1 = \" Aventador advances every concept of performance, and best out there in the market.\"\r\n",
    "\r\n",
    "def fword(string):\r\n",
    "    return string.split()[0]\r\n",
    "\r\n",
    "fword(str1)"
   ],
   "outputs": [
    {
     "output_type": "execute_result",
     "data": {
      "text/plain": [
       "'Aventador'"
      ]
     },
     "metadata": {},
     "execution_count": 2
    }
   ],
   "metadata": {}
  },
  {
   "cell_type": "markdown",
   "source": [
    "## Q3. Extract the first word from every string from a list of strings by using map function"
   ],
   "metadata": {}
  },
  {
   "cell_type": "code",
   "execution_count": 3,
   "source": [
    "\r\n",
    "l1 = [\"The word supercar is thrown around describing various high performance cars\",\r\n",
    "        \"Brand name is important because of  heritage and history\",\r\n",
    "        \"Performance is made up of three parts: handling, power, and speed\",\r\n",
    "        \"Speed is one of the most important aspects in a vehicle becoming a supercar\"]\r\n",
    "def fword(string):\r\n",
    "    return string.split()[0]\r\n",
    "res = list(map(fword,l1))\r\n",
    "print(res)"
   ],
   "outputs": [
    {
     "output_type": "stream",
     "name": "stdout",
     "text": [
      "['The', 'Brand', 'Performance', 'Speed']\n"
     ]
    }
   ],
   "metadata": {}
  },
  {
   "cell_type": "markdown",
   "source": [
    "\r\n",
    "## Q4. Write a function to return a list of prime factors of a given number."
   ],
   "metadata": {}
  },
  {
   "cell_type": "code",
   "execution_count": 1,
   "source": [
    "def prime_factor(x):\r\n",
    "    p_fact = []\r\n",
    "    div = 2\r\n",
    "\r\n",
    "    while div <= x:\r\n",
    "        if x%div == 0:\r\n",
    "            p_fact.append(div)\r\n",
    "            x = x/div\r\n",
    "        else:\r\n",
    "            div += 1\r\n",
    "    return p_fact\r\n",
    "\r\n",
    "a = int(input(\"Enter a number :\"))\r\n",
    "print(prime_factor(a))"
   ],
   "outputs": [
    {
     "output_type": "stream",
     "name": "stdout",
     "text": [
      "[7, 29]\n"
     ]
    }
   ],
   "metadata": {}
  },
  {
   "cell_type": "markdown",
   "source": [
    "## Q5. Write a function that finds 2nd largest among 4 numbers (Repetitions are allowed, without sorting)."
   ],
   "metadata": {}
  },
  {
   "cell_type": "code",
   "execution_count": 4,
   "source": [
    "a = input()\r\n",
    "l1 = a.split()\r\n",
    "\r\n",
    "l1 = set(l1)\r\n",
    "\r\n",
    "def second_largest():\r\n",
    "    \r\n",
    "    l1.remove(max(l1))\r\n",
    "    \r\n",
    "    print(max(l1))\r\n",
    "    \r\n",
    "second_largest()"
   ],
   "outputs": [
    {
     "output_type": "stream",
     "name": "stdout",
     "text": [
      "6\n"
     ]
    }
   ],
   "metadata": {}
  }
 ],
 "metadata": {
  "orig_nbformat": 4,
  "language_info": {
   "name": "python",
   "version": "3.9.6",
   "mimetype": "text/x-python",
   "codemirror_mode": {
    "name": "ipython",
    "version": 3
   },
   "pygments_lexer": "ipython3",
   "nbconvert_exporter": "python",
   "file_extension": ".py"
  },
  "kernelspec": {
   "name": "python3",
   "display_name": "Python 3.9.6 64-bit"
  },
  "interpreter": {
   "hash": "33dc6d49505b4536b6a128d9d7c879e1fa44477ad44947bbbe73093067fe6393"
  }
 },
 "nbformat": 4,
 "nbformat_minor": 2
}